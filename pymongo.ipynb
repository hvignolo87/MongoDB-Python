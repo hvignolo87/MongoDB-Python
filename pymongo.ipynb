{
 "cells": [
  {
   "cell_type": "markdown",
   "metadata": {},
   "source": [
    "### Imports"
   ]
  },
  {
   "cell_type": "code",
   "execution_count": null,
   "metadata": {},
   "outputs": [],
   "source": [
    "# Import os to manage paths\n",
    "import os\n",
    "# Import certifi to manage SSL certificates with TSL host\n",
    "import certifi\n",
    "# Import ConfigParser for handling config file\n",
    "from configparser import ConfigParser\n",
    "# Import PyMongo useful classes\n",
    "from pymongo.mongo_client import MongoClient\n",
    "from pymongo.server_api import ServerApi"
   ]
  },
  {
   "cell_type": "markdown",
   "metadata": {},
   "source": [
    "### Read the configuration file and load the credentials"
   ]
  },
  {
   "cell_type": "code",
   "execution_count": null,
   "metadata": {},
   "outputs": [],
   "source": [
    "# Read the configuration file with the credentials\n",
    "config = ConfigParser()\n",
    "config.read(os.path.join(os.getcwd(), 'config.ini'))\n",
    "\n",
    "# Load the data to connect to MongoDB Atlas Cluster\n",
    "user = config['MongoDB']['user']\n",
    "password = config['MongoDB']['password']\n",
    "uri = config['MongoDB']['uri']\n",
    "db_name = config['MongoDB']['db_name']"
   ]
  },
  {
   "cell_type": "markdown",
   "metadata": {},
   "source": [
    "### Connect to MongoDB Atlas Cluster"
   ]
  },
  {
   "cell_type": "code",
   "execution_count": null,
   "metadata": {},
   "outputs": [],
   "source": [
    "# Generate the connection string for the client\n",
    "CONNECTION_STRING = \"mongodb+srv://{}:{}@{}/{}?retryWrites=true&w=majority\"\\\n",
    "                    .format(user, password, uri, db_name)\n",
    "\n",
    "# Connect to MongoDB Atlas Cluster\n",
    "client = MongoClient(CONNECTION_STRING, \n",
    "                     server_api=ServerApi('1'),\n",
    "                     tls=True,\n",
    "                     tlsCAFile=certifi.where()\n",
    "                    )\n",
    "\n",
    "# Check if connection succeed\n",
    "try:\n",
    "    print(client.server_info())\n",
    "except Exception:\n",
    "    print(\"Unable to connect to the server.\")"
   ]
  }
 ],
 "metadata": {
  "language_info": {
   "name": "python"
  },
  "orig_nbformat": 4
 },
 "nbformat": 4,
 "nbformat_minor": 2
}
